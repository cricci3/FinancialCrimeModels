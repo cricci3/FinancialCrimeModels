{
 "cells": [
  {
   "cell_type": "code",
   "execution_count": 4,
   "metadata": {},
   "outputs": [
    {
     "data": {
      "text/plain": [
       "['x',\n",
       " 'y',\n",
       " 'edge_index',\n",
       " 'edge_type',\n",
       " 'edge_timestamp',\n",
       " 'train_mask',\n",
       " 'valid_mask',\n",
       " 'test_mask']"
      ]
     },
     "execution_count": 4,
     "metadata": {},
     "output_type": "execute_result"
    }
   ],
   "source": [
    "import numpy as np\n",
    "df = np.load('DGraphFin/dgraphfin.npz')\n",
    "\n",
    "df.files"
   ]
  },
  {
   "cell_type": "code",
   "execution_count": 13,
   "metadata": {},
   "outputs": [
    {
     "name": "stdout",
     "output_type": "stream",
     "text": [
      "Shape of x (node features): (3700550, 17)\n",
      "Example node features (first 5 nodes):\n",
      " [[ 0.  5. -1. -1. -1. -1. -1. -1. -1. -1.  0. -1. -1. -1. -1. -1. -1.]\n",
      " [-1. -1. -1. -1. -1. -1. -1. -1. -1. -1.  0. -1. -1. -1. -1. -1. -1.]\n",
      " [ 0.  5. -1. -1. -1. -1. -1. -1. -1. -1.  0. -1. -1. -1. -1. -1. -1.]\n",
      " [ 1.  5. -1. -1. -1. -1. -1. -1. -1. -1.  0. -1. -1. -1. -1. -1. -1.]\n",
      " [ 1.  7. -1. -1. -1. -1. -1. -1. -1. -1.  0. -1. -1. -1. -1. -1. -1.]]\n"
     ]
    }
   ],
   "source": [
    "x = df['x'] # feature matrix for the nodes (users)\n",
    "print(\"Shape of x (node features):\", x.shape)  # (num_nodes, num_features)\n",
    "print(\"Example node features (first 5 nodes):\\n\", x[:5])"
   ]
  },
  {
   "cell_type": "code",
   "execution_count": 14,
   "metadata": {},
   "outputs": [
    {
     "name": "stdout",
     "output_type": "stream",
     "text": [
      "Shape of y (node labels): (3700550,)\n",
      "Unique labels: [0 1 2 3]\n"
     ]
    }
   ],
   "source": [
    "y = df['y']\n",
    "print(\"Shape of y (node labels):\", y.shape)  # (num_nodes,)\n",
    "print(\"Unique labels:\", np.unique(y))"
   ]
  },
  {
   "cell_type": "code",
   "execution_count": 15,
   "metadata": {},
   "outputs": [
    {
     "name": "stdout",
     "output_type": "stream",
     "text": [
      "Shape of edge_index: (4300999, 2)\n",
      "First 5 edges:\n",
      " [[ 476699 2915516]\n",
      " [ 347800 1271242]\n",
      " [ 154317 2104635]\n",
      " ...\n",
      " [1894383 1147595]\n",
      " [1895741 1314434]\n",
      " [1206795 2072636]]\n"
     ]
    }
   ],
   "source": [
    "edge_index = df['edge_index'] # This is the edge list representing the directed relationships between users.\n",
    "print(\"Shape of edge_index:\", edge_index.shape)  # (2, num_edges)\n",
    "print(\"First 5 edges:\\n\", edge_index[:, :5])"
   ]
  },
  {
   "cell_type": "code",
   "execution_count": 16,
   "metadata": {},
   "outputs": [
    {
     "name": "stdout",
     "output_type": "stream",
     "text": [
      "Shape of edge_type: (4300999,)\n",
      "Unique edge types: [ 1  2  3  4  5  6  7  8  9 10 11]\n"
     ]
    }
   ],
   "source": [
    "edge_type = df['edge_type'] # This represents the type of each edge\n",
    "print(\"Shape of edge_type:\", edge_type.shape)  # (num_edges,)\n",
    "print(\"Unique edge types:\", np.unique(edge_type))"
   ]
  },
  {
   "cell_type": "code",
   "execution_count": 17,
   "metadata": {},
   "outputs": [
    {
     "name": "stdout",
     "output_type": "stream",
     "text": [
      "Shape of edge_timestamp: (4300999,)\n",
      "Earliest timestamp: 1\n",
      "Latest timestamp: 821\n"
     ]
    }
   ],
   "source": [
    "edge_timestamp = df['edge_timestamp']\n",
    "print(\"Shape of edge_timestamp:\", edge_timestamp.shape)  # (num_edges,)\n",
    "print(\"Earliest timestamp:\", np.min(edge_timestamp))\n",
    "print(\"Latest timestamp:\", np.max(edge_timestamp))"
   ]
  },
  {
   "cell_type": "code",
   "execution_count": 18,
   "metadata": {},
   "outputs": [
    {
     "data": {
      "image/png": "[encoded data removed]",
      "text/plain": [
       "<Figure size 640x480 with 1 Axes>"
      ]
     },
     "metadata": {},
     "output_type": "display_data"
    }
   ],
   "source": [
    "import networkx as nx\n",
    "import matplotlib.pyplot as plt\n",
    "\n",
    "subgraph_nodes = 100\n",
    "subgraph_edges = edge_index[:, edge_index[0] < subgraph_nodes]\n",
    "\n",
    "G = nx.DiGraph()\n",
    "G.add_edges_from(subgraph_edges.T)\n",
    "\n",
    "pos = nx.spring_layout(G)\n",
    "nx.draw(G, pos, with_labels=True, node_size=50, font_size=8)\n",
    "plt.title(\"Subgraph Visualization\")\n",
    "plt.show()"
   ]
  }
 ],
 "metadata": {
  "kernelspec": {
   "display_name": "bank",
   "language": "python",
   "name": "python3"
  },
  "language_info": {
   "codemirror_mode": {
    "name": "ipython",
    "version": 3
   },
   "file_extension": ".py",
   "mimetype": "text/x-python",
   "name": "python",
   "nbconvert_exporter": "python",
   "pygments_lexer": "ipython3",
   "version": "3.9.21"
  }
 },
 "nbformat": 4,
 "nbformat_minor": 2
}
