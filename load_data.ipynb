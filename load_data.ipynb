{
 "cells": [
  {
   "cell_type": "code",
   "execution_count": 13,
   "metadata": {},
   "outputs": [],
   "source": [
    "import pandas as pd\n",
    "from pymongo import MongoClient"
   ]
  },
  {
   "cell_type": "code",
   "execution_count": 14,
   "metadata": {},
   "outputs": [],
   "source": [
    "# Set connection\n",
    "client = MongoClient(\"mongodb://localhost:27017/\")\n",
    "db = client[\"bank\"]\n",
    "balances_collection = db[\"balances\"]\n",
    "\n",
    "# Load csv\n",
    "accounts = pd.read_csv(\"sample/accounts.csv\")\n",
    "transactions = pd.read_csv(\"sample/transactions.csv\", parse_dates=[\"tran_timestamp\"])"
   ]
  },
  {
   "cell_type": "code",
   "execution_count": 19,
   "metadata": {},
   "outputs": [
    {
     "name": "stdout",
     "output_type": "stream",
     "text": [
      "0\n",
      "96646.86\n"
     ]
    }
   ],
   "source": [
    "# Create root\n",
    "balances = {}\n",
    "\n",
    "# Take users data from account.csv\n",
    "for _, row in accounts.iterrows():\n",
    "    acc_id = row[\"acct_id\"] # User id\n",
    "    balances[acc_id] = [{\"date\": row[\"open_dt\"],\n",
    "                         \"balance\": row[\"initial_deposit\"]\n",
    "                        }]\n",
    "    if acc_id == 0: # Check\n",
    "        print(str(acc_id))\n",
    "        print(row[\"initial_deposit\"])"
   ]
  },
  {
   "cell_type": "code",
   "execution_count": 21,
   "metadata": {},
   "outputs": [
    {
     "name": "stdout",
     "output_type": "stream",
     "text": [
      "982 23\n"
     ]
    }
   ],
   "source": [
    "# Apply transactions to users' balances\n",
    "transactions.sort_values(\"tran_timestamp\", inplace=True)\n",
    "\n",
    "for i, (_, row) in enumerate(transactions.iterrows()):\n",
    "    date = row[\"tran_timestamp\"].strftime(\"%Y-%m-%d\")\n",
    "    orig_acct = str(row[\"orig_acct\"])\n",
    "    bene_acct = str(row[\"bene_acct\"])\n",
    "\n",
    "    if i == 0:\n",
    "        print(orig_acct, bene_acct)\n",
    "\n",
    "    amount = row[\"base_amt\"]\n",
    "    # aml_flag = row[\"is_sar\"]\n",
    "\n",
    "    if orig_acct in balances:\n",
    "        new_balance = balances[orig_acct][-1][\"balance\"] - amount\n",
    "        balances[orig_acct].append({\"date\": date, \"balance\": new_balance})\n",
    "    \n",
    "    if bene_acct in balances:\n",
    "        new_balance = balances[bene_acct][-1][\"balance\"] + amount\n",
    "        balances[bene_acct].append({\"date\": date, \"balance\": new_balance})"
   ]
  },
  {
   "cell_type": "code",
   "execution_count": 17,
   "metadata": {},
   "outputs": [
    {
     "name": "stdout",
     "output_type": "stream",
     "text": [
      "✅ Bilanci caricati con successo in MongoDB!\n"
     ]
    }
   ],
   "source": [
    "# Convertire i dati nel formato MongoDB e salvare\n",
    "for date in sorted(set(transactions[\"tran_timestamp\"].dt.strftime(\"%Y-%m-%d\"))):\n",
    "    daily_balances = {\n",
    "        \"date\": date,\n",
    "        \"balances\": {user: {\"balance\": b[-1][\"balance\"]} for user, b in balances.items()}\n",
    "    }\n",
    "    balances_collection.insert_one(daily_balances)\n",
    "\n",
    "print(\"✅ Bilanci caricati con successo in MongoDB!\")"
   ]
  }
 ],
 "metadata": {
  "kernelspec": {
   "display_name": "bank",
   "language": "python",
   "name": "python3"
  },
  "language_info": {
   "codemirror_mode": {
    "name": "ipython",
    "version": 3
   },
   "file_extension": ".py",
   "mimetype": "text/x-python",
   "name": "python",
   "nbconvert_exporter": "python",
   "pygments_lexer": "ipython3",
   "version": "3.9.21"
  }
 },
 "nbformat": 4,
 "nbformat_minor": 2
}
